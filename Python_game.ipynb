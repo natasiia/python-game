{
 "cells": [
  {
   "attachments": {},
   "cell_type": "markdown",
   "id": "3b142fa5",
   "metadata": {},
   "source": [
    "<h1>Exercise One - The Creature the Fighter and the Archer</h1>"
   ]
  },
  {
   "attachments": {},
   "cell_type": "markdown",
   "id": "b80d536f",
   "metadata": {},
   "source": [
    "<h2>Class Creature</h2>"
   ]
  },
  {
   "cell_type": "code",
   "execution_count": 1,
   "id": "939a8308",
   "metadata": {
    "ExecuteTime": {
     "end_time": "2022-12-11T20:22:14.404958Z",
     "start_time": "2022-12-11T20:22:14.373407Z"
    }
   },
   "outputs": [],
   "source": [
    "import random\n",
    "import math\n",
    "\n",
    "class Creature:\n",
    "    def __init__(self, name, MaxHP = 10):\n",
    "        self.name = name\n",
    "        self.HP = MaxHP \n",
    "        self.MaxHP = MaxHP \n",
    "        self.abilities = {\"Attack\": 1, \"Defence\": 2, \"Speed\": 5}\n",
    "\n",
    "    def check_life(self):\n",
    "        if self.HP > 0:\n",
    "            return self.HP\n",
    "        else:\n",
    "            print(self.name + \" fainted...\")\n",
    "            self.HP = 0    \n",
    "            return self.HP\n",
    "\n",
    "    def attack(self, target):\n",
    "        print(self.name + \" attacks \" + target.name + \".\")\n",
    "        roll = random.randint(1, 20)\n",
    "        if roll >= (int(target.abilities[\"Defence\"]) + int(target.abilities[\"Speed\"])): \n",
    "            damage = int(self.abilities[\"Attack\"]) + random.randint(1, 4)\n",
    "            target.HP -= damage\n",
    "            print(\"Attack hits for \" + str(damage) + \" damage!\")\n",
    "        else:\n",
    "            print(\"Attack missed...\")\n",
    "\n",
    "    def turn(self, round_num, target):\n",
    "        self.attack(target)\n",
    "        if (target.check_life()) == 0:\n",
    "            return True\n",
    "        else:\n",
    "            return False\n",
    "\n",
    "    def __str__(self):\n",
    "        return self.name + \" HP: \" + str(self.HP) + \"/\" + str(self.MaxHP)  "
   ]
  },
  {
   "cell_type": "markdown",
   "id": "2e6cdb8a",
   "metadata": {},
   "source": [
    "<h3>Example of two Creatures fighting:</h3>"
   ]
  },
  {
   "cell_type": "code",
   "execution_count": 2,
   "id": "16c6651a",
   "metadata": {
    "ExecuteTime": {
     "end_time": "2022-12-11T20:22:14.929245Z",
     "start_time": "2022-12-11T20:22:14.907409Z"
    }
   },
   "outputs": [
    {
     "name": "stdout",
     "output_type": "stream",
     "text": [
      "Round 1:\n",
      "Gollum attacks Bilbo.\n",
      "Attack hits for 2 damage!\n",
      "Bilbo attacks Gollum.\n",
      "Attack hits for 4 damage!\n",
      "Round 2:\n",
      "Gollum attacks Bilbo.\n",
      "Attack hits for 2 damage!\n",
      "Bilbo attacks Gollum.\n",
      "Attack missed...\n",
      "Round 3:\n",
      "Gollum attacks Bilbo.\n",
      "Attack hits for 4 damage!\n",
      "Bilbo attacks Gollum.\n",
      "Attack missed...\n",
      "Round 4:\n",
      "Gollum attacks Bilbo.\n",
      "Attack missed...\n",
      "Bilbo attacks Gollum.\n",
      "Attack hits for 5 damage!\n",
      "Round 5:\n",
      "Gollum attacks Bilbo.\n",
      "Attack hits for 4 damage!\n",
      "Bilbo fainted...\n"
     ]
    }
   ],
   "source": [
    "creature1 = Creature(\"Gollum\")\n",
    "creature2 = Creature(\"Bilbo\")\n",
    "\n",
    "for i in range (1, 21):\n",
    "    print(\"Round \" + str(i) + \":\")\n",
    "    if creature1.turn(i, creature2) == True:\n",
    "        break\n",
    "    if creature2.turn(i, creature1) == True:\n",
    "        break "
   ]
  },
  {
   "attachments": {},
   "cell_type": "markdown",
   "id": "df0e4a54",
   "metadata": {
    "ExecuteTime": {
     "end_time": "2022-12-11T17:10:04.026637Z",
     "start_time": "2022-12-11T17:10:04.014443Z"
    }
   },
   "source": [
    "<h2>Class Fighter</h2>"
   ]
  },
  {
   "cell_type": "code",
   "execution_count": 3,
   "id": "fd82bddd",
   "metadata": {
    "ExecuteTime": {
     "end_time": "2022-12-11T20:22:15.220491Z",
     "start_time": "2022-12-11T20:22:15.200548Z"
    }
   },
   "outputs": [],
   "source": [
    "class Fighter(Creature):\n",
    "    def __init__(self, name, MaxHP = 50):\n",
    "        Creature.__init__(self, name, MaxHP)\n",
    "        self.abilities = {\"Attack\": 5, \"Defence\": 10, \"Speed\": 3}\n",
    "        self.flagFighter = 0\n",
    "\n",
    "    def shield_up(self):\n",
    "        if self.flagFighter == 0:\n",
    "            self.abilities[\"Defence\"] += 5\n",
    "            print(self.name + \" defense rised.\")\n",
    "            self.abilities[\"Attack\"] -= 5\n",
    "            print(self.name + \" attack reduced.\")\n",
    "\n",
    "            self.flagFighter = 1   \n",
    "    \n",
    "    def shield_down(self):\n",
    "        if self.flagFighter == 1:\n",
    "            self.abilities[\"Defence\"] -= 5\n",
    "            print(self.name + \" defense reduced.\")\n",
    "            self.abilities[\"Attack\"] += 5\n",
    "            print(self.name + \" attack rised.\")\n",
    "\n",
    "            self.flagFighter = 0     \n",
    "\n",
    "    def turn(self, round_num, target):\n",
    "        if round_num % 4 == 1:\n",
    "            self.attack(target)\n",
    "            self.shield_up()\n",
    "        elif round_num % 4 == 0:\n",
    "            self.shield_down()     \n",
    "            self.attack(target)\n",
    "        else:    \n",
    "            self.attack(target)\n",
    "        if target.check_life() == 0:\n",
    "            return True\n",
    "        else:\n",
    "            return False"
   ]
  },
  {
   "cell_type": "markdown",
   "id": "2e063499",
   "metadata": {},
   "source": [
    "<h3>Example of a Creature and a Fighter fighting:</h3>"
   ]
  },
  {
   "cell_type": "code",
   "execution_count": 4,
   "id": "f5e023f7",
   "metadata": {
    "ExecuteTime": {
     "end_time": "2022-12-11T20:22:15.517259Z",
     "start_time": "2022-12-11T20:22:15.499881Z"
    }
   },
   "outputs": [
    {
     "name": "stdout",
     "output_type": "stream",
     "text": [
      "Round 1:\n",
      "Aragorn attacks Gollum.\n",
      "Attack hits for 6 damage!\n",
      "Aragorn defense rised.\n",
      "Aragorn attack reduced.\n",
      "Gollum fainted...\n"
     ]
    }
   ],
   "source": [
    "fighter1 = Fighter(\"Aragorn\") \n",
    "\n",
    "for i in range (1, 21):\n",
    "    print(\"Round \" + str(i) + \":\")\n",
    "    if fighter1.turn(i, creature1) == True:\n",
    "        break\n",
    "    if creature1.turn(i, fighter1) == True:\n",
    "        break "
   ]
  },
  {
   "attachments": {},
   "cell_type": "markdown",
   "id": "15162883",
   "metadata": {},
   "source": [
    "<h2>Class Archer</h2>"
   ]
  },
  {
   "cell_type": "code",
   "execution_count": 5,
   "id": "0ef55ed2",
   "metadata": {
    "ExecuteTime": {
     "end_time": "2022-12-11T20:22:15.831532Z",
     "start_time": "2022-12-11T20:22:15.790641Z"
    }
   },
   "outputs": [],
   "source": [
    "class Archer(Creature):\n",
    "    def __init__(self, name, MaxHP = 30):\n",
    "        Creature.__init__(self, name, MaxHP)\n",
    "        self.abilities = {\"Attack\": 7, \"Defence\": 8, \"Speed\": 8}\n",
    "        self.flagArcher = 0\n",
    "\n",
    "    def sneak_attack(self, target):\n",
    "        roll = max(random.randint(1, 20), random.randint(1, 20))\n",
    "\n",
    "        if int(self.abilities[\"Speed\"]) > int(target.abilities[\"Speed\"]):\n",
    "            roll += (int(self.abilities[\"Speed\"]) - int(target.abilities[\"Speed\"]))\n",
    "        \n",
    "        if self.flagArcher == 0:\n",
    "            self.abilities[\"Attack\"] += 3\n",
    "            print(self.name + \" attack rised.\")\n",
    "            self.abilities[\"Defence\"] -= 3\n",
    "            print(self.name + \" defense reduced.\")\n",
    "            self.flagArcher = 1   \n",
    "        \n",
    "        print(self.name + \" sneak attacks \" + target.name + \".\")\n",
    "\n",
    "        if roll >= int(target.abilities[\"Defence\"]) + int(target.abilities[\"Speed\"]): \n",
    "            damage = int(self.abilities[\"Attack\"]) + random.randint(1, 8)\n",
    "            target.HP -= damage\n",
    "            print(\"Sneak attack hits for \" + str(damage) + \" damage!\")\n",
    "        else:\n",
    "            print(\"Attack missed...\")\n",
    "\n",
    "    def attack(self, target):\n",
    "        if self.flagArcher == 1:\n",
    "            self.abilities[\"Attack\"] -= 3\n",
    "            print(self.name + \" attack reduced.\")\n",
    "            self.abilities[\"Defence\"] += 3\n",
    "            print(self.name + \" defense rised.\")\n",
    "            self.flagArcher = 0  \n",
    "        Creature.attack(self, target)         \n",
    "\n",
    "    def turn(self, round_num, target):\n",
    "        if round_num % 4 == 1:\n",
    "            self.sneak_attack(target)\n",
    "        else:    \n",
    "            self.attack(target)\n",
    "        if (target.check_life()) == 0:\n",
    "            return True\n",
    "        else:\n",
    "            return False"
   ]
  },
  {
   "cell_type": "markdown",
   "id": "08145489",
   "metadata": {},
   "source": [
    "<h3>Example of a Fighter and an Archer fighting:</h3>"
   ]
  },
  {
   "cell_type": "code",
   "execution_count": 6,
   "id": "01e184c8",
   "metadata": {
    "ExecuteTime": {
     "end_time": "2022-12-11T20:22:16.106151Z",
     "start_time": "2022-12-11T20:22:16.079324Z"
    }
   },
   "outputs": [
    {
     "name": "stdout",
     "output_type": "stream",
     "text": [
      "Round 1:\n",
      "Aragorn attacks Legolas.\n",
      "Attack missed...\n",
      "Legolas attack rised.\n",
      "Legolas defense reduced.\n",
      "Legolas sneak attacks Aragorn.\n",
      "Attack missed...\n",
      "Round 2:\n",
      "Aragorn attacks Legolas.\n",
      "Attack missed...\n",
      "Legolas attack reduced.\n",
      "Legolas defense rised.\n",
      "Legolas attacks Aragorn.\n",
      "Attack missed...\n",
      "Round 3:\n",
      "Aragorn attacks Legolas.\n",
      "Attack missed...\n",
      "Legolas attacks Aragorn.\n",
      "Attack missed...\n",
      "Round 4:\n",
      "Aragorn defense reduced.\n",
      "Aragorn attack rised.\n",
      "Aragorn attacks Legolas.\n",
      "Attack missed...\n",
      "Legolas attacks Aragorn.\n",
      "Attack missed...\n",
      "Round 5:\n",
      "Aragorn attacks Legolas.\n",
      "Attack missed...\n",
      "Aragorn defense rised.\n",
      "Aragorn attack reduced.\n",
      "Legolas attack rised.\n",
      "Legolas defense reduced.\n",
      "Legolas sneak attacks Aragorn.\n",
      "Sneak attack hits for 16 damage!\n",
      "Round 6:\n",
      "Aragorn attacks Legolas.\n",
      "Attack missed...\n",
      "Legolas attack reduced.\n",
      "Legolas defense rised.\n",
      "Legolas attacks Aragorn.\n",
      "Attack missed...\n",
      "Round 7:\n",
      "Aragorn attacks Legolas.\n",
      "Attack missed...\n",
      "Legolas attacks Aragorn.\n",
      "Attack missed...\n",
      "Round 8:\n",
      "Aragorn defense reduced.\n",
      "Aragorn attack rised.\n",
      "Aragorn attacks Legolas.\n",
      "Attack missed...\n",
      "Legolas attacks Aragorn.\n",
      "Attack missed...\n",
      "Round 9:\n",
      "Aragorn attacks Legolas.\n",
      "Attack missed...\n",
      "Aragorn defense rised.\n",
      "Aragorn attack reduced.\n",
      "Legolas attack rised.\n",
      "Legolas defense reduced.\n",
      "Legolas sneak attacks Aragorn.\n",
      "Sneak attack hits for 14 damage!\n",
      "Round 10:\n",
      "Aragorn attacks Legolas.\n",
      "Attack missed...\n",
      "Legolas attack reduced.\n",
      "Legolas defense rised.\n",
      "Legolas attacks Aragorn.\n",
      "Attack missed...\n",
      "Round 11:\n",
      "Aragorn attacks Legolas.\n",
      "Attack missed...\n",
      "Legolas attacks Aragorn.\n",
      "Attack missed...\n",
      "Round 12:\n",
      "Aragorn defense reduced.\n",
      "Aragorn attack rised.\n",
      "Aragorn attacks Legolas.\n",
      "Attack missed...\n",
      "Legolas attacks Aragorn.\n",
      "Attack missed...\n",
      "Round 13:\n",
      "Aragorn attacks Legolas.\n",
      "Attack missed...\n",
      "Aragorn defense rised.\n",
      "Aragorn attack reduced.\n",
      "Legolas attack rised.\n",
      "Legolas defense reduced.\n",
      "Legolas sneak attacks Aragorn.\n",
      "Attack missed...\n",
      "Round 14:\n",
      "Aragorn attacks Legolas.\n",
      "Attack missed...\n",
      "Legolas attack reduced.\n",
      "Legolas defense rised.\n",
      "Legolas attacks Aragorn.\n",
      "Attack missed...\n",
      "Round 15:\n",
      "Aragorn attacks Legolas.\n",
      "Attack missed...\n",
      "Legolas attacks Aragorn.\n",
      "Attack missed...\n",
      "Round 16:\n",
      "Aragorn defense reduced.\n",
      "Aragorn attack rised.\n",
      "Aragorn attacks Legolas.\n",
      "Attack missed...\n",
      "Legolas attacks Aragorn.\n",
      "Attack missed...\n",
      "Round 17:\n",
      "Aragorn attacks Legolas.\n",
      "Attack missed...\n",
      "Aragorn defense rised.\n",
      "Aragorn attack reduced.\n",
      "Legolas attack rised.\n",
      "Legolas defense reduced.\n",
      "Legolas sneak attacks Aragorn.\n",
      "Sneak attack hits for 14 damage!\n",
      "Round 18:\n",
      "Aragorn attacks Legolas.\n",
      "Attack missed...\n",
      "Legolas attack reduced.\n",
      "Legolas defense rised.\n",
      "Legolas attacks Aragorn.\n",
      "Attack missed...\n",
      "Round 19:\n",
      "Aragorn attacks Legolas.\n",
      "Attack missed...\n",
      "Legolas attacks Aragorn.\n",
      "Attack hits for 10 damage!\n",
      "Aragorn fainted...\n"
     ]
    }
   ],
   "source": [
    "arc = Archer(\"Legolas\")\n",
    "\n",
    "for i in range (1, 21):\n",
    "    print(\"Round \" + str(i) + \":\")\n",
    "    if fighter1.turn(i, arc) == True:\n",
    "        break\n",
    "    if arc.turn(i, fighter1) == True:\n",
    "        break "
   ]
  },
  {
   "attachments": {},
   "cell_type": "markdown",
   "id": "2836194f",
   "metadata": {},
   "source": [
    "<h1>Exercise Two - Enemies’ Classes</h1>"
   ]
  },
  {
   "attachments": {},
   "cell_type": "markdown",
   "id": "286738e5",
   "metadata": {},
   "source": [
    "<h2>Class Goblin & Class Orc</h2>"
   ]
  },
  {
   "cell_type": "code",
   "execution_count": 7,
   "id": "160b9711",
   "metadata": {
    "ExecuteTime": {
     "end_time": "2022-12-11T20:22:16.567320Z",
     "start_time": "2022-12-11T20:22:16.545278Z"
    }
   },
   "outputs": [],
   "source": [
    "class Goblin(Creature):\n",
    "    def __init__(self, name, MaxHP = 15):\n",
    "        Creature.__init__(self, name, MaxHP)\n",
    "        self.abilities = {\"Attack\": 4, \"Defence\": 6, \"Speed\": 6}"
   ]
  },
  {
   "cell_type": "code",
   "execution_count": 8,
   "id": "84994e3a",
   "metadata": {
    "ExecuteTime": {
     "end_time": "2022-12-11T20:22:16.730558Z",
     "start_time": "2022-12-11T20:22:16.712440Z"
    }
   },
   "outputs": [],
   "source": [
    "class Orc(Creature):\n",
    "    def __init__(self, name, MaxHP = 50):\n",
    "        Creature.__init__(self, name, MaxHP)\n",
    "        self.abilities = {\"Attack\": 10, \"Defence\": 6, \"Speed\": 2}\n",
    "        self.flagOrc = 0\n",
    "\n",
    "    def heavy_attack(self, target):\n",
    "        if self.flagOrc == 0:\n",
    "            self.abilities[\"Attack\"] += 5\n",
    "            print(self.name + \" attack rised.\")\n",
    "            self.abilities[\"Defence\"] -= 3\n",
    "            print(self.name + \" defence reduced.\")\n",
    "\n",
    "            self.flagOrc = 1  \n",
    "        Creature.attack(self, target)  \n",
    "\n",
    "    def attack(self, target):\n",
    "        if self.flagOrc == 1:\n",
    "            self.abilities[\"Attack\"] -= 5\n",
    "            print(self.name + \" attack reduced.\")\n",
    "            self.abilities[\"Defence\"] += 3\n",
    "            print(self.name + \" defence rised.\")\n",
    "\n",
    "            self.flagOrc = 0 \n",
    "        Creature.attack(self, target)         \n",
    "\n",
    "    def turn(self, round_num, target):\n",
    "        if round_num % 4 == 0:\n",
    "            self.heavy_attack(target)\n",
    "        else:    \n",
    "            self.attack(target)\n",
    "        if target.check_life() == 0:\n",
    "            return True\n",
    "        else:\n",
    "            return False"
   ]
  },
  {
   "cell_type": "markdown",
   "id": "aa35fbcf",
   "metadata": {},
   "source": [
    "<h3>Example of a Goblin and an Orc fighting:</h3>"
   ]
  },
  {
   "cell_type": "code",
   "execution_count": 9,
   "id": "82441054",
   "metadata": {
    "ExecuteTime": {
     "end_time": "2022-12-11T20:22:17.055241Z",
     "start_time": "2022-12-11T20:22:17.025483Z"
    }
   },
   "outputs": [
    {
     "name": "stdout",
     "output_type": "stream",
     "text": [
      "Round 1:\n",
      "Goblin attacks Orc.\n",
      "Attack hits for 7 damage!\n",
      "Orc attacks Goblin.\n",
      "Attack missed...\n",
      "Round 2:\n",
      "Goblin attacks Orc.\n",
      "Attack hits for 5 damage!\n",
      "Orc attacks Goblin.\n",
      "Attack hits for 12 damage!\n",
      "Round 3:\n",
      "Goblin attacks Orc.\n",
      "Attack hits for 5 damage!\n",
      "Orc attacks Goblin.\n",
      "Attack missed...\n",
      "Round 4:\n",
      "Goblin attacks Orc.\n",
      "Attack missed...\n",
      "Orc attack rised.\n",
      "Orc defence reduced.\n",
      "Orc attacks Goblin.\n",
      "Attack hits for 16 damage!\n",
      "Goblin fainted...\n"
     ]
    }
   ],
   "source": [
    "orc = Orc(\"Orc\")\n",
    "goblin = Goblin(\"Goblin\")\n",
    "\n",
    "for i in range (1, 21):\n",
    "    print(\"Round \" + str(i) + \":\")\n",
    "    if goblin.turn(i, orc) == True:\n",
    "        break\n",
    "    if orc.turn(i, goblin) == True:\n",
    "        break      "
   ]
  },
  {
   "attachments": {},
   "cell_type": "markdown",
   "id": "b3c15dea",
   "metadata": {},
   "source": [
    "<h2>Class OrcGeneral</h2>"
   ]
  },
  {
   "cell_type": "code",
   "execution_count": 10,
   "id": "ef0286d0",
   "metadata": {
    "ExecuteTime": {
     "end_time": "2022-12-11T20:22:17.412656Z",
     "start_time": "2022-12-11T20:22:17.389023Z"
    }
   },
   "outputs": [],
   "source": [
    "class OrcGeneral(Orc, Fighter):\n",
    "    def __init__(self, name, MaxHP = 100):\n",
    "        Orc.__init__(self, name, MaxHP)\n",
    "        self.flagFighter = 0\n",
    "        \n",
    "    def turn(self, round_num, target):\n",
    "        if round_num % 4 == 1:\n",
    "            self.attack(target)\n",
    "            self.shield_up()  \n",
    "        elif round_num % 4 == 2:    \n",
    "            self.attack(target)      \n",
    "        elif round_num % 4 == 3:\n",
    "            self.shield_down()     \n",
    "            self.attack(target)\n",
    "        elif round_num % 4 == 0:    \n",
    "            self.heavy_attack(target)    \n",
    "        \n",
    "        if target.check_life() == 0:\n",
    "            return True\n",
    "        else:\n",
    "            return False "
   ]
  },
  {
   "attachments": {},
   "cell_type": "markdown",
   "id": "3c9e7bf7",
   "metadata": {},
   "source": [
    "<h2>Class GoblinKing</h2>"
   ]
  },
  {
   "cell_type": "code",
   "execution_count": 11,
   "id": "9b4e95ef",
   "metadata": {
    "ExecuteTime": {
     "end_time": "2022-12-11T20:22:17.906901Z",
     "start_time": "2022-12-11T20:22:17.877552Z"
    }
   },
   "outputs": [],
   "source": [
    "class GoblinKing(Goblin, Archer):\n",
    "     def __init__(self, name, MaxHP = 50):\n",
    "        Archer.__init__(self, name, MaxHP)\n",
    "        self.abilities = {\"Attack\": 4, \"Defence\": 6, \"Speed\": 6}  "
   ]
  },
  {
   "cell_type": "markdown",
   "id": "2f3625a9",
   "metadata": {
    "ExecuteTime": {
     "end_time": "2022-12-11T17:37:03.823078Z",
     "start_time": "2022-12-11T17:37:03.801844Z"
    }
   },
   "source": [
    "<h3>Example of a Goblin King and an Orc General fighting:</h3>"
   ]
  },
  {
   "cell_type": "code",
   "execution_count": 12,
   "id": "7fbd286d",
   "metadata": {
    "ExecuteTime": {
     "end_time": "2022-12-11T20:22:18.644859Z",
     "start_time": "2022-12-11T20:22:18.616943Z"
    }
   },
   "outputs": [
    {
     "name": "stdout",
     "output_type": "stream",
     "text": [
      "Round 1:\n",
      "Goblin King attack rised.\n",
      "Goblin King defense reduced.\n",
      "Goblin King sneak attacks Orc General.\n",
      "Sneak attack hits for 12 damage!\n",
      "Orc General attacks Goblin King.\n",
      "Attack missed...\n",
      "Orc General defense rised.\n",
      "Orc General attack reduced.\n",
      "Round 2:\n",
      "Goblin King attack reduced.\n",
      "Goblin King defense rised.\n",
      "Goblin King attacks Orc General.\n",
      "Attack missed...\n",
      "Orc General attacks Goblin King.\n",
      "Attack missed...\n",
      "Round 3:\n",
      "Goblin King attacks Orc General.\n",
      "Attack hits for 6 damage!\n",
      "Orc General defense reduced.\n",
      "Orc General attack rised.\n",
      "Orc General attacks Goblin King.\n",
      "Attack missed...\n",
      "Round 4:\n",
      "Goblin King attacks Orc General.\n",
      "Attack hits for 6 damage!\n",
      "Orc General attack rised.\n",
      "Orc General defence reduced.\n",
      "Orc General attacks Goblin King.\n",
      "Attack missed...\n",
      "Round 5:\n",
      "Goblin King attack rised.\n",
      "Goblin King defense reduced.\n",
      "Goblin King sneak attacks Orc General.\n",
      "Sneak attack hits for 13 damage!\n",
      "Orc General attack reduced.\n",
      "Orc General defence rised.\n",
      "Orc General attacks Goblin King.\n",
      "Attack hits for 13 damage!\n",
      "Orc General defense rised.\n",
      "Orc General attack reduced.\n",
      "Round 6:\n",
      "Goblin King attack reduced.\n",
      "Goblin King defense rised.\n",
      "Goblin King attacks Orc General.\n",
      "Attack missed...\n",
      "Orc General attacks Goblin King.\n",
      "Attack missed...\n",
      "Round 7:\n",
      "Goblin King attacks Orc General.\n",
      "Attack hits for 8 damage!\n",
      "Orc General defense reduced.\n",
      "Orc General attack rised.\n",
      "Orc General attacks Goblin King.\n",
      "Attack hits for 13 damage!\n",
      "Round 8:\n",
      "Goblin King attacks Orc General.\n",
      "Attack hits for 5 damage!\n",
      "Orc General attack rised.\n",
      "Orc General defence reduced.\n",
      "Orc General attacks Goblin King.\n",
      "Attack hits for 17 damage!\n",
      "Round 9:\n",
      "Goblin King attack rised.\n",
      "Goblin King defense reduced.\n",
      "Goblin King sneak attacks Orc General.\n",
      "Sneak attack hits for 8 damage!\n",
      "Orc General attack reduced.\n",
      "Orc General defence rised.\n",
      "Orc General attacks Goblin King.\n",
      "Attack missed...\n",
      "Orc General defense rised.\n",
      "Orc General attack reduced.\n",
      "Round 10:\n",
      "Goblin King attack reduced.\n",
      "Goblin King defense rised.\n",
      "Goblin King attacks Orc General.\n",
      "Attack missed...\n",
      "Orc General attacks Goblin King.\n",
      "Attack missed...\n",
      "Round 11:\n",
      "Goblin King attacks Orc General.\n",
      "Attack missed...\n",
      "Orc General defense reduced.\n",
      "Orc General attack rised.\n",
      "Orc General attacks Goblin King.\n",
      "Attack hits for 11 damage!\n",
      "Goblin King fainted...\n"
     ]
    }
   ],
   "source": [
    "orc_general = OrcGeneral(\"Orc General\")\n",
    "goblin_king = GoblinKing(\"Goblin King\")\n",
    "\n",
    "for i in range (1, 21):\n",
    "    print(\"Round \" + str(i) + \":\")\n",
    "    if goblin_king.turn(i, orc_general) == True:\n",
    "        break\n",
    "    if orc_general.turn(i, goblin_king) == True:\n",
    "        break "
   ]
  },
  {
   "attachments": {},
   "cell_type": "markdown",
   "id": "b1c272ba",
   "metadata": {},
   "source": [
    "<h1>Exercise Three - The Wizard</h1>"
   ]
  },
  {
   "attachments": {},
   "cell_type": "markdown",
   "id": "8d4db759",
   "metadata": {},
   "source": [
    "<h2>Class Wizard</h2>"
   ]
  },
  {
   "cell_type": "markdown",
   "id": "13c1ca3a",
   "metadata": {},
   "source": [
    "<p>The method <strong>check_mana</strong> was added to check the amount of mana. If the level of mana exceeds 100, the appropriate message is printed, and the mana returns to the value of 100. Similarly, if the mana goes below zero, this method returns it to zero.</p> "
   ]
  },
  {
   "cell_type": "code",
   "execution_count": 13,
   "id": "6d909531",
   "metadata": {
    "ExecuteTime": {
     "end_time": "2022-12-11T20:45:23.867320Z",
     "start_time": "2022-12-11T20:45:23.821152Z"
    }
   },
   "outputs": [],
   "source": [
    "class Wizard(Creature):\n",
    "    def __init__(self, name, MaxHP=20):\n",
    "        Creature.__init__(self, name, MaxHP)\n",
    "        self.abilities = {\"Attack\": 3, \"Defence\": 5, \"Speed\": 5, \"Arcana\": 10}\n",
    "        self.mana = 100\n",
    "        self.MaxMana = 100\n",
    "\n",
    "    def check_mana(self):\n",
    "        if self.mana > 100:\n",
    "            print(\"Mana is full\")\n",
    "            self.mana = 100\n",
    "        elif self.mana < 0:\n",
    "            self.mana = 0\n",
    "    \n",
    "    def attack(self, target):\n",
    "        self.mana += 20\n",
    "        self.check_mana()\n",
    "        if self.mana < 100:\n",
    "            print(\"Mana: +20!\")\n",
    "        Creature.attack(self,target)\n",
    "\n",
    "    def recharge(self):\n",
    "        print(self.name + \" channels magical energy...\")\n",
    "        self.mana += 30\n",
    "        self.check_mana()\n",
    "        if self.mana < 100:\n",
    "            print(\"Mana: +30!\")\n",
    "\n",
    "    def fire_bolt(self, target):\n",
    "        print(self.name + \" fires a fire bolt at \" + target.name + \"...\")\n",
    "        roll = math.floor(random.randint(1, 20) + int(self.abilities[\"Arcana\"]) / 2)\n",
    "\n",
    "        if roll >= (int(target.abilities[\"Defence\"]) + int(target.abilities[\"Speed\"])): \n",
    "            damage = random.randint(1, int(self.abilities[\"Arcana\"]))\n",
    "            target.HP -= damage\n",
    "            print(\"Fire bolt hits for \" + str(damage) + \" fire damage!\")\n",
    "        else:\n",
    "            print(\"Attack missed...\")\n",
    "            \n",
    "        target.check_life()\n",
    "\n",
    "        self.mana += 10\n",
    "        self.check_mana()\n",
    "        if self.mana < 100:\n",
    "            print(\"Mana: +10!\")    \n",
    "\n",
    "    def heal(self, target):\n",
    "        if self.mana > 20:\n",
    "            healedHP = math.floor(random.randint(0, 8) + int(self.abilities[\"Arcana\"]) / 2)\n",
    "            self.mana -= 20\n",
    "            print(\"Mana: -20\")\n",
    "            print(self.name + \" heals \" + target.name + \" for \" + str(healedHP) + \" HP!\")\n",
    "\n",
    "    #allies - list\n",
    "    def mass_heal(self, allies):\n",
    "        if self.mana > 30:\n",
    "            self.mana -= 30\n",
    "            print(\"Mana: -30\")\n",
    "            for i in range (len(allies)):\n",
    "                healedHP = random.randint(0, 10) + int(self.abilities[\"Arcana\"])\n",
    "                print(self.name + \" heals \" + allies[i].name + \" for \" + str(healedHP) + \" HP!\")\n",
    "                \n",
    "    def fire_storm(self, enemies):\n",
    "        if self.mana > 50:\n",
    "            self.mana -= 50\n",
    "            print(\"Mana: -50\")\n",
    "            for i in range (len(enemies)): \n",
    "                roll = random.randint(1, 20) + int(self.abilities[\"Speed\"])\n",
    "                damage = random.randint(5, 20) + int(self.abilities[\"Arcana\"])\n",
    "                if roll >= int(self.abilities[\"Arcana\"]):\n",
    "                    enemies[i].HP -= (damage // 2)\n",
    "                    print(\"Fire Storm deals \" + str(damage // 2) + \" fire damage to \" + enemies[i].name + \"!\")\n",
    "                else:\n",
    "                    enemies[i].HP -= damage  \n",
    "                    print(\"Fire Storm deals \" + str(damage) + \" fire damage to \" + enemies[i].name + \"!\")  \n",
    "                enemies[i].check_life()\n",
    "\n",
    "    def __str__(self):\n",
    "        return self.name + \" HP: \" + str(self.HP) + \"/\" + str(self.MaxHP) + \" Mana: \" +  str(self.mana) + \"/\" + str(self.MaxMana) "
   ]
  },
  {
   "cell_type": "markdown",
   "id": "a0692735",
   "metadata": {},
   "source": [
    "<h3>Example of a Wizard and other targets interacting:</h3>"
   ]
  },
  {
   "cell_type": "code",
   "execution_count": 14,
   "id": "36b86b25",
   "metadata": {
    "ExecuteTime": {
     "end_time": "2022-12-11T20:45:35.098056Z",
     "start_time": "2022-12-11T20:45:35.076782Z"
    }
   },
   "outputs": [
    {
     "name": "stdout",
     "output_type": "stream",
     "text": [
      "Using attack:\n",
      "Mana is full\n",
      "Gendalf attacks Goblin King.\n",
      "Attack missed...\n",
      "\n",
      "Using fire bolt:\n",
      "Gendalf fires a fire bolt at Goblin...\n",
      "Fire bolt hits for 9 fire damage!\n",
      "Goblin fainted...\n",
      "Mana is full\n",
      "\n",
      "Using heal:\n",
      "Mana: -20\n",
      "Gendalf heals Bilbo for 11 HP!\n",
      "\n",
      "Using mass heal:\n",
      "Mana: -30\n",
      "Gendalf heals Aragorn for 15 HP!\n",
      "Gendalf heals Gendalf for 16 HP!\n",
      "Gendalf heals Bilbo for 19 HP!\n",
      "\n",
      "Using recharge:\n",
      "Gendalf channels magical energy...\n",
      "Mana: +30!\n",
      "\n",
      "Using fire storm:\n",
      "Mana: -50\n",
      "Fire Storm deals 14 fire damage to Orc!\n",
      "Fire Storm deals 11 fire damage to Goblin!\n",
      "Goblin fainted...\n"
     ]
    }
   ],
   "source": [
    "wizard = Wizard(\"Gendalf\")\n",
    "allies = (fighter1, wizard, creature2)\n",
    "enemies = (orc, goblin)\n",
    "\n",
    "print(\"Using attack:\")\n",
    "wizard.attack(goblin_king)\n",
    "print(\"\\nUsing fire bolt:\")\n",
    "wizard.fire_bolt(goblin)\n",
    "print(\"\\nUsing heal:\")\n",
    "wizard.heal(creature2)\n",
    "print(\"\\nUsing mass heal:\")\n",
    "wizard.mass_heal(allies)\n",
    "print(\"\\nUsing recharge:\")\n",
    "wizard.recharge()\n",
    "print(\"\\nUsing fire storm:\")\n",
    "wizard.fire_storm(enemies)"
   ]
  },
  {
   "attachments": {},
   "cell_type": "markdown",
   "id": "4462c775",
   "metadata": {},
   "source": [
    "<h1>Exercise Four - Battle in the Middle Earth</h1>"
   ]
  },
  {
   "cell_type": "markdown",
   "id": "2a373b20",
   "metadata": {},
   "source": [
    "<p>When creating the <strong>select_target</strong> method, I implemented try-except statements to control the user's input (i.e., the only possible values are within the defined range of integers; otherwise, the program will return to the beginning of the loop).</p>\n",
    "<p>Inside <strong>start</strong> method the function <i>any()</i> was used (returns True if any item in an iterable are true, otherwise it returns False). It checks to which class (enemies or allies) every creature belongs in order to select the random target creature from an opposite class.</p>\n",
    "<p>To exit the game, there are three conditions: all enemies' HP, or all allies’ HP, or the player's HP should be equal to 0. To check the first two conditions, I used <i>all()</i> function (returns True if all items in an iterable object are true).</p>"
   ]
  },
  {
   "cell_type": "code",
   "execution_count": 15,
   "id": "499b89bf",
   "metadata": {
    "ExecuteTime": {
     "end_time": "2022-12-11T20:46:07.947727Z",
     "start_time": "2022-12-11T20:46:07.888422Z"
    }
   },
   "outputs": [],
   "source": [
    "class Battle:\n",
    "    def __init__(self):\n",
    "        self.enemies_list = [GoblinKing(\"Goblin King\"), OrcGeneral(\"Orc General\"), Goblin(\"Goblin 1\"), Orc(\"Orc 1\"), Goblin(\"Goblin 2\"), Orc(\"Orc 2\")]\n",
    "        self.allies_list = [Fighter(\"Aragorn\"), Fighter(\"Boromir\"), Archer(\"Legolas\"), Archer(\"Tauriel\"), Creature(\"Bilbo\")]\n",
    "        self.player = Wizard(\"Gendalf\")\n",
    "\n",
    "    def auto_select(self, target_list):\n",
    "        target_list = list(filter(lambda x: (x.HP > 0), target_list))\n",
    "        if len(target_list) > 0:\n",
    "            target = target_list[random.randint(0, len(target_list) - 1)]\n",
    "            return target\n",
    "        else:\n",
    "            return None\n",
    "\n",
    "#     checking user input if it is a string or a number\n",
    "\n",
    "    def select_target(self, target_list):\n",
    "        for target in target_list:\n",
    "            if target.HP <= 0:\n",
    "                target_list.remove(target)\n",
    "        \n",
    "        while True:\n",
    "            for i in range(len(target_list)):\n",
    "                print(str(i+1) + \": \" + str(target_list[i]))\n",
    "\n",
    "            try:\n",
    "                user_input = int(input(\"Enter choice: \"))\n",
    "                break\n",
    "            except ValueError:\n",
    "                print(\"Wrong input, try again\")\n",
    "                print(\"-\" *60)\n",
    "\n",
    "        if (user_input > len(target_list)) or (user_input < 1):\n",
    "            print(\"Wrong input, try again\")\n",
    "            print(\"-\" *60)\n",
    "            self.select_target(target_list)\n",
    "        else:\n",
    "            return target_list[user_input - 1]    \n",
    "\n",
    "    def player_turn(self):\n",
    "        for target in self.enemies_list:\n",
    "            if target.HP <= 0:\n",
    "                self.enemies_list.remove(target)\n",
    "                \n",
    "        print(\"Player: \" + str(self.player))\n",
    "        print(\"Allies:\")\n",
    "        for ally in self.allies_list:\n",
    "            if (ally != self.player) and (ally.HP > 0):\n",
    "                print(\" \" + str(ally))\n",
    "        print(\"-\" *60)\n",
    "        print(\"Actions. F: Attack R: Recharge Mana\")\n",
    "        print(\"Spells. 1: Heal 2: Firebolt 3: Mass Heal 4: Fire Storm\")\n",
    "        print(\"To Quit game type: Quit\")\n",
    "        print(\"-\" *60)\n",
    "        player_input = input(\"Enter action: \")\n",
    "        \n",
    "        if player_input == \"F\" or player_input == \"f\":\n",
    "            print(\"Select target:\")\n",
    "            self.player.attack(self.select_target(self.enemies_list))\n",
    "            print(\"-\" *60)\n",
    "            return \n",
    "        \n",
    "        elif player_input == \"R\" or player_input == \"r\":\n",
    "            self.player.recharge()\n",
    "            print(\"-\" *60)\n",
    "            return \n",
    "        \n",
    "        elif player_input == str(1):\n",
    "            if self.player.mana > 20:\n",
    "                self.player.heal(self.select_target(self.allies_list))\n",
    "                print(\"-\" *60)\n",
    "                return\n",
    "            else:  \n",
    "                print(\"Not enough mana! Choose another action.\")\n",
    "                print(\"-\" *60)\n",
    "                self.player_turn()\n",
    "             \n",
    "        elif player_input == str(2):\n",
    "            self.player.fire_bolt(self.select_target(self.enemies_list))\n",
    "            print(\"-\" *60)\n",
    "            return \n",
    "        \n",
    "        elif player_input == str(3):\n",
    "            if self.player.mana > 30:\n",
    "                self.player.mass_heal(self.allies_list)\n",
    "                print(\"-\" *60)\n",
    "                return \n",
    "            else:  \n",
    "                print(\"Not enough mana! Choose another action.\")\n",
    "                print(\"-\" *60)\n",
    "                self.player_turn()\n",
    "        \n",
    "        elif player_input == str(4):\n",
    "            if self.player.mana > 50:\n",
    "                self.player.fire_storm(self.enemies_list)\n",
    "                print(\"-\" *60)\n",
    "                return \n",
    "            else:  \n",
    "                print(\"Not enough mana! Choose another action.\")\n",
    "                print(\"-\" *60)\n",
    "                self.player_turn()\n",
    "        \n",
    "        elif player_input == \"Quit\" or player_input == \"quit\":\n",
    "            print(\"-\" *60)\n",
    "            return 0\n",
    "        else:\n",
    "            print(\"Wrong input, try again\")\n",
    "            print(\"-\" *60)\n",
    "            self.player_turn() \n",
    "    \n",
    "    def start(self):\n",
    "        self.allies_list = self.allies_list + [self.player]\n",
    "        self.combined_list = self.enemies_list + self.allies_list\n",
    "        self.combined_list.sort(key = lambda x: x.abilities[\"Speed\"], reverse = True)\n",
    "        print(\"THE BATTLE BEGINS\")\n",
    "        print(\"-\" *60)\n",
    "        round_number = 1\n",
    "        global player_exit\n",
    "        player_exit = False\n",
    "\n",
    "        while round_number > 0:\n",
    "            print(\"Round \" + str(round_number) + \".\")\n",
    "            print(\"-\" *60)\n",
    "\n",
    "            for creature in self.combined_list:\n",
    "                if creature.HP > 0:\n",
    "                    if creature == self.player:\n",
    "                        if self.player_turn() != 0:\n",
    "                            pass\n",
    "                        else:\n",
    "                            player_exit = True\n",
    "                            break\n",
    "\n",
    "                    elif any(obj == creature for obj in self.enemies_list):\n",
    "                        creature.turn(round_number, self.auto_select(self.allies_list))\n",
    "                        print(\"-\" *60)\n",
    "                    \n",
    "                    elif (creature != self.player) and (any(obj == creature for obj in self.allies_list)):\n",
    "                        creature.turn(round_number, self.auto_select(self.enemies_list))\n",
    "                        print(\"-\" *60)\n",
    "\n",
    "                    if (self.player.HP <= 0) or (all(obj.HP <= 0 for obj in self.enemies_list)) or (all(obj.HP <= 0 for obj in self.allies_list)):\n",
    "                        break\n",
    "\n",
    "            print(\"End of round \" + str(round_number) + \".\")\n",
    "            print(\"-\" *60)\n",
    "            round_number += 1\n",
    "\n",
    "            if player_exit == True:\n",
    "                print(\"GAME OVER\")\n",
    "                print(\"-\" *60)\n",
    "                break\n",
    "            \n",
    "            elif all(obj.HP <= 0 for obj in self.enemies_list):\n",
    "                print(\"Allied army wins!\")\n",
    "                print(\"-\" *60)\n",
    "                print(\"GAME OVER\")\n",
    "                print(\"-\" *60)\n",
    "                break\n",
    "\n",
    "            elif (all(obj.HP <= 0 for obj in self.allies_list)) or (self.player.HP <= 0):\n",
    "                print(\"Enemy army wins!\")\n",
    "                print(\"-\" *60)\n",
    "                print(\"GAME OVER\")\n",
    "                print(\"-\" *60)\n",
    "                break"
   ]
  },
  {
   "cell_type": "markdown",
   "id": "788d8e5a",
   "metadata": {},
   "source": [
    "<h3>Example of a Battle:</h3>"
   ]
  },
  {
   "cell_type": "code",
   "execution_count": 16,
   "id": "bb940f90",
   "metadata": {
    "ExecuteTime": {
     "end_time": "2022-12-11T20:47:06.418799Z",
     "start_time": "2022-12-11T20:46:09.159026Z"
    }
   },
   "outputs": [
    {
     "name": "stdout",
     "output_type": "stream",
     "text": [
      "THE BATTLE BEGINS\n",
      "------------------------------------------------------------\n",
      "Round 1.\n",
      "------------------------------------------------------------\n",
      "Legolas attack rised.\n",
      "Legolas defense reduced.\n",
      "Legolas sneak attacks Orc 1.\n",
      "Sneak attack hits for 13 damage!\n",
      "------------------------------------------------------------\n",
      "Tauriel attack rised.\n",
      "Tauriel defense reduced.\n",
      "Tauriel sneak attacks Orc 2.\n",
      "Sneak attack hits for 16 damage!\n",
      "------------------------------------------------------------\n",
      "Goblin King attack rised.\n",
      "Goblin King defense reduced.\n",
      "Goblin King sneak attacks Gendalf.\n",
      "Sneak attack hits for 15 damage!\n",
      "------------------------------------------------------------\n",
      "Goblin 1 attacks Boromir.\n",
      "Attack missed...\n",
      "------------------------------------------------------------\n",
      "Goblin 2 attacks Boromir.\n",
      "Attack missed...\n",
      "------------------------------------------------------------\n",
      "Bilbo attacks Orc 1.\n",
      "Attack missed...\n",
      "------------------------------------------------------------\n",
      "Player: Gendalf HP: 5/20 Mana: 100/100\n",
      "Allies:\n",
      " Aragorn HP: 50/50\n",
      " Boromir HP: 50/50\n",
      " Legolas HP: 30/30\n",
      " Tauriel HP: 30/30\n",
      " Bilbo HP: 10/10\n",
      "------------------------------------------------------------\n",
      "Actions. F: Attack R: Recharge Mana\n",
      "Spells. 1: Heal 2: Firebolt 3: Mass Heal 4: Fire Storm\n",
      "To Quit game type: Quit\n",
      "------------------------------------------------------------\n",
      "Wrong input, try again\n",
      "------------------------------------------------------------\n",
      "Player: Gendalf HP: 5/20 Mana: 100/100\n",
      "Allies:\n",
      " Aragorn HP: 50/50\n",
      " Boromir HP: 50/50\n",
      " Legolas HP: 30/30\n",
      " Tauriel HP: 30/30\n",
      " Bilbo HP: 10/10\n",
      "------------------------------------------------------------\n",
      "Actions. F: Attack R: Recharge Mana\n",
      "Spells. 1: Heal 2: Firebolt 3: Mass Heal 4: Fire Storm\n",
      "To Quit game type: Quit\n",
      "------------------------------------------------------------\n",
      "Wrong input, try again\n",
      "------------------------------------------------------------\n",
      "Player: Gendalf HP: 5/20 Mana: 100/100\n",
      "Allies:\n",
      " Aragorn HP: 50/50\n",
      " Boromir HP: 50/50\n",
      " Legolas HP: 30/30\n",
      " Tauriel HP: 30/30\n",
      " Bilbo HP: 10/10\n",
      "------------------------------------------------------------\n",
      "Actions. F: Attack R: Recharge Mana\n",
      "Spells. 1: Heal 2: Firebolt 3: Mass Heal 4: Fire Storm\n",
      "To Quit game type: Quit\n",
      "------------------------------------------------------------\n",
      "Wrong input, try again\n",
      "------------------------------------------------------------\n",
      "Player: Gendalf HP: 5/20 Mana: 100/100\n",
      "Allies:\n",
      " Aragorn HP: 50/50\n",
      " Boromir HP: 50/50\n",
      " Legolas HP: 30/30\n",
      " Tauriel HP: 30/30\n",
      " Bilbo HP: 10/10\n",
      "------------------------------------------------------------\n",
      "Actions. F: Attack R: Recharge Mana\n",
      "Spells. 1: Heal 2: Firebolt 3: Mass Heal 4: Fire Storm\n",
      "To Quit game type: Quit\n",
      "------------------------------------------------------------\n",
      "Wrong input, try again\n",
      "------------------------------------------------------------\n",
      "Player: Gendalf HP: 5/20 Mana: 100/100\n",
      "Allies:\n",
      " Aragorn HP: 50/50\n",
      " Boromir HP: 50/50\n",
      " Legolas HP: 30/30\n",
      " Tauriel HP: 30/30\n",
      " Bilbo HP: 10/10\n",
      "------------------------------------------------------------\n",
      "Actions. F: Attack R: Recharge Mana\n",
      "Spells. 1: Heal 2: Firebolt 3: Mass Heal 4: Fire Storm\n",
      "To Quit game type: Quit\n",
      "------------------------------------------------------------\n",
      "Wrong input, try again\n",
      "------------------------------------------------------------\n",
      "Player: Gendalf HP: 5/20 Mana: 100/100\n",
      "Allies:\n",
      " Aragorn HP: 50/50\n",
      " Boromir HP: 50/50\n",
      " Legolas HP: 30/30\n",
      " Tauriel HP: 30/30\n",
      " Bilbo HP: 10/10\n",
      "------------------------------------------------------------\n",
      "Actions. F: Attack R: Recharge Mana\n",
      "Spells. 1: Heal 2: Firebolt 3: Mass Heal 4: Fire Storm\n",
      "To Quit game type: Quit\n",
      "------------------------------------------------------------\n"
     ]
    }
   ],
   "source": [
    "battle1 = Battle()\n",
    "battle1.start()"
   ]
  }
 ],
 "metadata": {
  "kernelspec": {
   "display_name": "Python 3",
   "language": "python",
   "name": "python3"
  },
  "language_info": {
   "codemirror_mode": {
    "name": "ipython",
    "version": 3
   },
   "file_extension": ".py",
   "mimetype": "text/x-python",
   "name": "python",
   "nbconvert_exporter": "python",
   "pygments_lexer": "ipython3",
   "version": "3.10.9"
  },
  "varInspector": {
   "cols": {
    "lenName": 16,
    "lenType": 16,
    "lenVar": 40
   },
   "kernels_config": {
    "python": {
     "delete_cmd_postfix": "",
     "delete_cmd_prefix": "del ",
     "library": "var_list.py",
     "varRefreshCmd": "print(var_dic_list())"
    },
    "r": {
     "delete_cmd_postfix": ") ",
     "delete_cmd_prefix": "rm(",
     "library": "var_list.r",
     "varRefreshCmd": "cat(var_dic_list()) "
    }
   },
   "types_to_exclude": [
    "module",
    "function",
    "builtin_function_or_method",
    "instance",
    "_Feature"
   ],
   "window_display": false
  },
  "vscode": {
   "interpreter": {
    "hash": "4b18aef467e911f4a5d459ab62cb06d1e1aae6e65db77bd0cdb6b4c738dc1b40"
   }
  }
 },
 "nbformat": 4,
 "nbformat_minor": 5
}
